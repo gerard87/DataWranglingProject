{
 "cells": [
  {
   "cell_type": "code",
   "execution_count": 1,
   "metadata": {},
   "outputs": [],
   "source": [
    "import pandas as pd\n",
    "import numpy as np \n",
    "import os"
   ]
  },
  {
   "cell_type": "code",
   "execution_count": 2,
   "metadata": {},
   "outputs": [],
   "source": [
    "dfs = []\n",
    "dfs_tmp = {}\n",
    "path = \"measures\"\n",
    "measure_files = [f for f in os.listdir(path) if os.path.isfile(os.path.join(path, f))]"
   ]
  },
  {
   "cell_type": "code",
   "execution_count": 3,
   "metadata": {},
   "outputs": [],
   "source": [
    "for measure_file in measure_files:\n",
    "    with open(os.path.join(path, measure_file), 'r') as f:\n",
    "        key_name = measure_file[2:measure_file[2:].index(\"-\")+2]\n",
    "        if not key_name in dfs_tmp:\n",
    "            dfs_tmp[key_name] = []\n",
    "        if measure_file.endswith('.csv'):\n",
    "            dfs_tmp[key_name].append(pd.read_csv(f))\n",
    "        elif measure_file.endswith('.json'):\n",
    "            dfs_tmp[key_name].append(pd.read_json(f, lines=True))"
   ]
  },
  {
   "cell_type": "code",
   "execution_count": 4,
   "metadata": {},
   "outputs": [],
   "source": [
    "for key in dfs_tmp.keys():\n",
    "    dfList = dfs_tmp[key]\n",
    "    for df in dfList:\n",
    "        df.rename(columns={'value': df.iloc[0][0][0]}, inplace=True)\n",
    "    df = pd.merge(dfList[0], dfList[1], on='time')\n",
    "    df = df.drop(columns=[\"sensor_y\"])\n",
    "    df[\"sensor_x\"] = key\n",
    "    df.rename(columns={'sensor_x': 'sensor'}, inplace=True)\n",
    "    dfs.append(df)\n",
    "\n",
    "# After merging the same sensor data, clean the sensor column and change header names. \n",
    "# Then concatenate all datasets in one big dataset\n",
    "ds = pd.concat(dfs)\n",
    "ds[\"T\"].fillna(ds[\"T\"].mean(), inplace=True)\n",
    "ds[\"H\"].fillna(ds[\"H\"].mean(), inplace=True)\n",
    "ds[\"P\"].fillna(ds[\"P\"].mean(), inplace=True)\n"
   ]
  },
  {
   "cell_type": "code",
   "execution_count": 5,
   "metadata": {},
   "outputs": [
    {
     "data": {
      "text/plain": [
       "(5384565, 5)"
      ]
     },
     "execution_count": 5,
     "metadata": {},
     "output_type": "execute_result"
    }
   ],
   "source": [
    "ds.shape"
   ]
  },
  {
   "cell_type": "code",
   "execution_count": 6,
   "metadata": {},
   "outputs": [
    {
     "data": {
      "text/html": [
       "<div>\n",
       "<style scoped>\n",
       "    .dataframe tbody tr th:only-of-type {\n",
       "        vertical-align: middle;\n",
       "    }\n",
       "\n",
       "    .dataframe tbody tr th {\n",
       "        vertical-align: top;\n",
       "    }\n",
       "\n",
       "    .dataframe thead th {\n",
       "        text-align: right;\n",
       "    }\n",
       "</style>\n",
       "<table border=\"1\" class=\"dataframe\">\n",
       "  <thead>\n",
       "    <tr style=\"text-align: right;\">\n",
       "      <th></th>\n",
       "      <th>H</th>\n",
       "      <th>P</th>\n",
       "      <th>T</th>\n",
       "      <th>sensor</th>\n",
       "      <th>time</th>\n",
       "    </tr>\n",
       "  </thead>\n",
       "  <tbody>\n",
       "    <tr>\n",
       "      <th>0</th>\n",
       "      <td>31.0</td>\n",
       "      <td>1015.81464</td>\n",
       "      <td>27.0</td>\n",
       "      <td>DHT11</td>\n",
       "      <td>2017-12-22T11:22:11Z</td>\n",
       "    </tr>\n",
       "    <tr>\n",
       "      <th>1</th>\n",
       "      <td>31.0</td>\n",
       "      <td>1015.81464</td>\n",
       "      <td>28.0</td>\n",
       "      <td>DHT11</td>\n",
       "      <td>2017-12-22T11:22:16Z</td>\n",
       "    </tr>\n",
       "    <tr>\n",
       "      <th>2</th>\n",
       "      <td>31.0</td>\n",
       "      <td>1015.81464</td>\n",
       "      <td>28.0</td>\n",
       "      <td>DHT11</td>\n",
       "      <td>2017-12-22T11:22:20Z</td>\n",
       "    </tr>\n",
       "    <tr>\n",
       "      <th>3</th>\n",
       "      <td>31.0</td>\n",
       "      <td>1015.81464</td>\n",
       "      <td>28.0</td>\n",
       "      <td>DHT11</td>\n",
       "      <td>2017-12-22T11:22:24Z</td>\n",
       "    </tr>\n",
       "    <tr>\n",
       "      <th>4</th>\n",
       "      <td>31.0</td>\n",
       "      <td>1015.81464</td>\n",
       "      <td>28.0</td>\n",
       "      <td>DHT11</td>\n",
       "      <td>2017-12-22T11:22:28Z</td>\n",
       "    </tr>\n",
       "  </tbody>\n",
       "</table>\n",
       "</div>"
      ],
      "text/plain": [
       "      H           P     T sensor                  time\n",
       "0  31.0  1015.81464  27.0  DHT11  2017-12-22T11:22:11Z\n",
       "1  31.0  1015.81464  28.0  DHT11  2017-12-22T11:22:16Z\n",
       "2  31.0  1015.81464  28.0  DHT11  2017-12-22T11:22:20Z\n",
       "3  31.0  1015.81464  28.0  DHT11  2017-12-22T11:22:24Z\n",
       "4  31.0  1015.81464  28.0  DHT11  2017-12-22T11:22:28Z"
      ]
     },
     "execution_count": 6,
     "metadata": {},
     "output_type": "execute_result"
    }
   ],
   "source": [
    "ds.head(5)"
   ]
  },
  {
   "cell_type": "code",
   "execution_count": 7,
   "metadata": {},
   "outputs": [
    {
     "data": {
      "text/html": [
       "<div>\n",
       "<style scoped>\n",
       "    .dataframe tbody tr th:only-of-type {\n",
       "        vertical-align: middle;\n",
       "    }\n",
       "\n",
       "    .dataframe tbody tr th {\n",
       "        vertical-align: top;\n",
       "    }\n",
       "\n",
       "    .dataframe thead th {\n",
       "        text-align: right;\n",
       "    }\n",
       "</style>\n",
       "<table border=\"1\" class=\"dataframe\">\n",
       "  <thead>\n",
       "    <tr style=\"text-align: right;\">\n",
       "      <th></th>\n",
       "      <th>H</th>\n",
       "      <th>P</th>\n",
       "      <th>T</th>\n",
       "    </tr>\n",
       "  </thead>\n",
       "  <tbody>\n",
       "    <tr>\n",
       "      <th>count</th>\n",
       "      <td>5.384565e+06</td>\n",
       "      <td>5.384565e+06</td>\n",
       "      <td>5.384565e+06</td>\n",
       "    </tr>\n",
       "    <tr>\n",
       "      <th>mean</th>\n",
       "      <td>2.336055e+01</td>\n",
       "      <td>1.015815e+03</td>\n",
       "      <td>2.202503e+01</td>\n",
       "    </tr>\n",
       "    <tr>\n",
       "      <th>std</th>\n",
       "      <td>1.401280e+01</td>\n",
       "      <td>5.049089e+00</td>\n",
       "      <td>2.618106e+00</td>\n",
       "    </tr>\n",
       "    <tr>\n",
       "      <th>min</th>\n",
       "      <td>1.000000e+00</td>\n",
       "      <td>9.856200e+02</td>\n",
       "      <td>1.500000e+01</td>\n",
       "    </tr>\n",
       "    <tr>\n",
       "      <th>25%</th>\n",
       "      <td>1.000000e+00</td>\n",
       "      <td>1.015815e+03</td>\n",
       "      <td>2.067000e+01</td>\n",
       "    </tr>\n",
       "    <tr>\n",
       "      <th>50%</th>\n",
       "      <td>2.336055e+01</td>\n",
       "      <td>1.015815e+03</td>\n",
       "      <td>2.212000e+01</td>\n",
       "    </tr>\n",
       "    <tr>\n",
       "      <th>75%</th>\n",
       "      <td>3.500000e+01</td>\n",
       "      <td>1.015815e+03</td>\n",
       "      <td>2.393000e+01</td>\n",
       "    </tr>\n",
       "    <tr>\n",
       "      <th>max</th>\n",
       "      <td>9.990000e+01</td>\n",
       "      <td>1.040000e+03</td>\n",
       "      <td>2.980000e+01</td>\n",
       "    </tr>\n",
       "  </tbody>\n",
       "</table>\n",
       "</div>"
      ],
      "text/plain": [
       "                  H             P             T\n",
       "count  5.384565e+06  5.384565e+06  5.384565e+06\n",
       "mean   2.336055e+01  1.015815e+03  2.202503e+01\n",
       "std    1.401280e+01  5.049089e+00  2.618106e+00\n",
       "min    1.000000e+00  9.856200e+02  1.500000e+01\n",
       "25%    1.000000e+00  1.015815e+03  2.067000e+01\n",
       "50%    2.336055e+01  1.015815e+03  2.212000e+01\n",
       "75%    3.500000e+01  1.015815e+03  2.393000e+01\n",
       "max    9.990000e+01  1.040000e+03  2.980000e+01"
      ]
     },
     "execution_count": 7,
     "metadata": {},
     "output_type": "execute_result"
    }
   ],
   "source": [
    "ds.describe()"
   ]
  },
  {
   "cell_type": "code",
   "execution_count": 9,
   "metadata": {},
   "outputs": [
    {
     "data": {
      "image/png": "[encoded data removed]",
      "text/plain": [
       "<matplotlib.figure.Figure at 0x24d2ef24978>"
      ]
     },
     "metadata": {},
     "output_type": "display_data"
    }
   ],
   "source": [
    "import matplotlib.pyplot as plt\n",
    "\n",
    "ds.plot(kind='box')\n",
    "plt.show()"
   ]
  },
  {
   "cell_type": "code",
   "execution_count": 10,
   "metadata": {},
   "outputs": [
    {
     "data": {
      "image/png": "[encoded data removed]",
      "text/plain": [
       "<matplotlib.figure.Figure at 0x24d2ef41e48>"
      ]
     },
     "metadata": {},
     "output_type": "display_data"
    }
   ],
   "source": [
    "from pandas.plotting import scatter_matrix\n",
    "scatter_matrix(ds)\n",
    "plt.show()"
   ]
  },
  {
   "cell_type": "code",
   "execution_count": 11,
   "metadata": {},
   "outputs": [],
   "source": [
    "import sklearn.cluster as cluster\n",
    "import numpy as np\n",
    "import seaborn as sns\n",
    "sns.set_context('poster')\n",
    "sns.set_color_codes()\n",
    "plot_kwds = {'alpha' : 0.25, 's' : 80, 'linewidths':0}"
   ]
  },
  {
   "cell_type": "code",
   "execution_count": 12,
   "metadata": {},
   "outputs": [
    {
     "data": {
      "text/plain": [
       "DHT22     1358057\n",
       "HTU21     1346655\n",
       "BMP280    1341114\n",
       "DHT11     1338736\n",
       "DM280           3\n",
       "Name: sensor, dtype: int64"
      ]
     },
     "execution_count": 12,
     "metadata": {},
     "output_type": "execute_result"
    }
   ],
   "source": [
    "ds[\"sensor\"].value_counts()"
   ]
  },
  {
   "cell_type": "code",
   "execution_count": 13,
   "metadata": {},
   "outputs": [],
   "source": [
    "ds.replace({\"sensor\":{\"DHT22\":0, \"HTU21\":1, \"BMP280\": 2, \"DHT11\": 3, \"DM280\": 4}}, inplace=True)"
   ]
  },
  {
   "cell_type": "code",
   "execution_count": 14,
   "metadata": {},
   "outputs": [
    {
     "data": {
      "text/plain": [
       "0    1358057\n",
       "1    1346655\n",
       "2    1341114\n",
       "3    1338736\n",
       "4          3\n",
       "Name: sensor, dtype: int64"
      ]
     },
     "execution_count": 14,
     "metadata": {},
     "output_type": "execute_result"
    }
   ],
   "source": [
    "ds[\"sensor\"].value_counts()"
   ]
  },
  {
   "cell_type": "code",
   "execution_count": 15,
   "metadata": {},
   "outputs": [
    {
     "data": {
      "image/png": "[encoded data removed]",
      "text/plain": [
       "<matplotlib.figure.Figure at 0x24d2f45b160>"
      ]
     },
     "metadata": {},
     "output_type": "display_data"
    }
   ],
   "source": [
    "colors = np.array(['red','blue','green', 'orange', 'yellow'])\n",
    "plt.scatter(ds['H'], ds['T'], c=colors[ds['sensor']], s=40)\n",
    "plt.show()"
   ]
  },
  {
   "cell_type": "code",
   "execution_count": 16,
   "metadata": {},
   "outputs": [],
   "source": [
    "model = cluster.KMeans(n_clusters=5)"
   ]
  },
  {
   "cell_type": "code",
   "execution_count": 17,
   "metadata": {},
   "outputs": [
    {
     "data": {
      "text/plain": [
       "KMeans(algorithm='auto', copy_x=True, init='k-means++', max_iter=300,\n",
       "    n_clusters=5, n_init=10, n_jobs=1, precompute_distances='auto',\n",
       "    random_state=None, tol=0.0001, verbose=0)"
      ]
     },
     "execution_count": 17,
     "metadata": {},
     "output_type": "execute_result"
    }
   ],
   "source": [
    "model.fit(ds[[\"sensor\", \"T\", \"H\", \"P\"]])"
   ]
  },
  {
   "cell_type": "code",
   "execution_count": 18,
   "metadata": {},
   "outputs": [
    {
     "data": {
      "image/png": "[encoded data removed]",
      "text/plain": [
       "<matplotlib.figure.Figure at 0x24d2f4876a0>"
      ]
     },
     "metadata": {},
     "output_type": "display_data"
    }
   ],
   "source": [
    "colors = np.array(['red','blue','green', 'orange', 'yellow'])\n",
    "plt.scatter(ds['H'], ds['T'], c=colors[model.labels_], s=40)\n",
    "plt.show()"
   ]
  },
  {
   "cell_type": "code",
   "execution_count": 20,
   "metadata": {},
   "outputs": [
    {
     "data": {
      "text/plain": [
       "0.1854797927037746"
      ]
     },
     "execution_count": 20,
     "metadata": {},
     "output_type": "execute_result"
    }
   ],
   "source": [
    "ds.replace({\"sensor\":{4: \"3\", 3: \"4\", 2:\"1\", 1:\"0\", 0:\"2\", }}, inplace=True)\n",
    "ds.replace({\"sensor\":{\"1\":1, \"0\":0, \"2\":2, \"3\":3, \"4\":4}}, inplace=True)\n",
    "import sklearn.metrics \n",
    "sklearn.metrics.accuracy_score(ds['sensor'], model.labels_)"
   ]
  },
  {
   "cell_type": "code",
   "execution_count": 22,
   "metadata": {},
   "outputs": [
    {
     "data": {
      "text/plain": [
       "array([[ 998696,       0,       0,       0,  347959],\n",
       "       [      0,       0,  409150,  370105,  561859],\n",
       "       [      7, 1358028,       0,       0,      22],\n",
       "       [      0,       0,       3,       0,       0],\n",
       "       [1338704,       0,       0,       0,      32]], dtype=int64)"
      ]
     },
     "execution_count": 22,
     "metadata": {},
     "output_type": "execute_result"
    }
   ],
   "source": [
    "sklearn.metrics.confusion_matrix(ds['sensor'],model.labels_)"
   ]
  },
  {
   "cell_type": "code",
   "execution_count": null,
   "metadata": {},
   "outputs": [],
   "source": []
  }
 ],
 "metadata": {
  "kernelspec": {
   "display_name": "Python 3",
   "language": "python",
   "name": "python3"
  },
  "language_info": {
   "codemirror_mode": {
    "name": "ipython",
    "version": 3
   },
   "file_extension": ".py",
   "mimetype": "text/x-python",
   "name": "python",
   "nbconvert_exporter": "python",
   "pygments_lexer": "ipython3",
   "version": "3.6.4"
  }
 },
 "nbformat": 4,
 "nbformat_minor": 2
}
